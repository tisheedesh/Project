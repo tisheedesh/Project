{
  "cells": [
    {
      "cell_type": "code",
      "execution_count": null,
      "id": "27819251",
      "metadata": {
        "id": "27819251"
      },
      "outputs": [],
      "source": [
        "import requests\n",
        "from selenium import webdriver\n",
        "import time\n",
        "from bs4 import BeautifulSoup\n",
        "from tqdm import tqdm\n",
        "from joblib import Parallel, delayed\n",
        "from tqdm import tqdm_notebook\n",
        "import numpy as np\n",
        "import pandas as pd\n",
        "from selenium.webdriver.chrome.options import Options\n",
        "from selenium.webdriver.chrome.service import Service"
      ]
    },
    {
      "cell_type": "markdown",
      "source": [
        "Перед парсингом мы поизучали сайт sokolov.ru и выяснили, что контент на страницах прогружается динамически - контент внизу страницы прогружается после того, как пользователь проскроллит страницу до него. Это значит, что не получится брать HTML-дерево страницы с помощью requests, нужно что-то придумывать.\n",
        "\n",
        "Решением проблемы стало использование selenium, конкретнее - скрипт для скролла страницы до самого низа, после чего контент будет прогружен полностью.\n",
        "\n",
        "Для начала напишем функции, собирающие ссылки на кольца из каталога (https://sokolov.ru/jewelry-catalog/rings/)"
      ],
      "metadata": {
        "id": "6hx6FTvk55LP"
      },
      "id": "6hx6FTvk55LP"
    },
    {
      "cell_type": "code",
      "execution_count": null,
      "id": "c932c867",
      "metadata": {
        "id": "c932c867"
      },
      "outputs": [],
      "source": [
        "def extract_links(ref_begin, page_count):\n",
        "    links = []\n",
        "\n",
        "    for i in tqdm(range(1, page_count + 1)):\n",
        "        ref = f'{ref_begin}?page={i}'\n",
        "        driver.get(ref)     # заходим на страницу с помощью selenium\n",
        "        time.sleep(2)       # ждём прогрузку страницы\n",
        "        driver.execute_script(\"window.scrollTo(0, document.body.scrollHeight);\")    # скроллим страницу в самый низ\n",
        "        time.sleep(2)       # ждём прогрузку страницы\n",
        "        tree = BeautifulSoup(driver.page_source, 'html.parser')     # парсим дерево html с помощью bs4\n",
        "\n",
        "        elems = tree.find('div', {'class' : 'ProductList_products-list__We3gK'}).find_all('a', {'data-qa-article':True})\n",
        "        # по указанному тегу с атрибутом находим контейнер, который хранит все кольца, после чего находим все теги 'a' с атрибутом 'data-qa-article':True\n",
        "        # - в них хранятся ссылки на кольца, сохраняем их в список elems\n",
        "\n",
        "        #по каждому тегу 'a' из списка получаем ссылку, указанную в 'href', и добавляем её в список links\n",
        "        for elem in elems:\n",
        "            links.append('https://sokolov.ru/' + elem.get('href'))\n",
        "\n",
        "    return links\n",
        "\n",
        "\n",
        "# аналогичный вариант, но без скролла страницы в самый низ\n",
        "def extract_links_2(ref_begin, page_count):\n",
        "    links = []\n",
        "\n",
        "    for i in tqdm(range(1, 147)):\n",
        "        ref = f'{ref_begin}?page={i}'\n",
        "        driver.get(ref)\n",
        "        time.sleep(2)\n",
        "        bs = BeautifulSoup(driver.page_source)\n",
        "        rings = bs.find_all('a',attrs={'class':'ProductListItem_product-link__T8HTy'})\n",
        "        links.extend([('https://sokolov.ru' + ring.get('href'), i) for ring in rings])\n",
        "    driver.close\n",
        "    return links"
      ]
    },
    {
      "cell_type": "markdown",
      "source": [
        "Применяем функцию, передаём в неё ссылку на каталог и число страниц - на момент парсинга 146, и собираем ссылки, после чего сохраняем их в отдельный текстовый файл `ring_links.txt`, чтобы не потерять."
      ],
      "metadata": {
        "id": "TCwirWld844O"
      },
      "id": "TCwirWld844O"
    },
    {
      "cell_type": "code",
      "execution_count": null,
      "id": "c193f9a0",
      "metadata": {
        "id": "c193f9a0",
        "outputId": "086c90dd-d6bf-488f-fd72-f121959fcd3b"
      },
      "outputs": [
        {
          "name": "stderr",
          "output_type": "stream",
          "text": [
            "100%|████████████████████████████████████████████████████████████████████████████████| 146/146 [08:44<00:00,  3.59s/it]\n"
          ]
        }
      ],
      "source": [
        "driver = webdriver.Chrome()\n",
        "extracted_ring_links = extract_links_2('https://sokolov.ru/jewelry-catalog/rings/', 146)\n",
        "\n",
        "ring_links = open('ring_links.txt', 'w')\n",
        "for link in extracted_ring_links:\n",
        "    ring_links.write(str(link[0]) + ' ' + str(link[1]))\n",
        "    ring_links.write('\\n')\n",
        "ring_links.close()"
      ]
    },
    {
      "cell_type": "markdown",
      "source": [
        "Далее напишем функцию, которая собирает данные по кольцам из ссылок."
      ],
      "metadata": {
        "id": "_f-HCnsS9bYv"
      },
      "id": "_f-HCnsS9bYv"
    },
    {
      "cell_type": "code",
      "execution_count": null,
      "id": "cf292c30",
      "metadata": {
        "id": "cf292c30"
      },
      "outputs": [],
      "source": [
        "#пробовали в многопоточность - вышло не очень (не даёт значимый буст по времени), см. следующую функцию\n",
        "def extract_data_threaded(ref):\n",
        "    chrome_options = Options()\n",
        "    chrome_options.add_argument(\"--headless\")\n",
        "    driver = webdriver.Chrome(options=chrome_options)\n",
        "    driver.get(ref)\n",
        "    time.sleep(2)\n",
        "    driver.execute_script(\"window.scrollTo(0, document.body.scrollHeight);\")\n",
        "    time.sleep(2)\n",
        "    try:\n",
        "        tree = BeautifulSoup(driver.page_source, 'html.parser')\n",
        "\n",
        "        chars_table = tree.find('div', {'class' : \"Characteristics_sklv-characteristics__fdRmP\"})\n",
        "        chars_names = chars_table.find_all('div', {'class' : 'Characteristics_sklv-product-page-characteristics-row-name__wa7Gg'})\n",
        "        chars_values = chars_table.find_all('div', {'class' : 'Characteristics_sklv-product-page-characteristics-row-vals__NwNL9'})\n",
        "\n",
        "        rings_dict = {}\n",
        "\n",
        "        for i in range(len(chars_names)):\n",
        "            name = chars_names[i].span.get_text()\n",
        "            value = chars_values[i].span.get_text()\n",
        "\n",
        "            if name in rings_dict.keys():\n",
        "                i = 2\n",
        "                while (name + f' {i}') in rings_dict.keys():\n",
        "                    i += 1\n",
        "                name += f' {i}'\n",
        "\n",
        "            rings_dict[name] = value\n",
        "\n",
        "        rings_list.append(rings_dict)\n",
        "        driver.close()\n",
        "    except:\n",
        "        problem_links.append(ref)\n",
        "        driver.close()\n",
        "\n",
        "def extract_data(ref, driver, p):\n",
        "    driver.get(ref)     #заходим на кольцо через селениум\n",
        "    time.sleep(1)\n",
        "    driver.execute_script(\"window.scrollTo(0, document.body.scrollHeight);\")    # скроллим вниз для прогрузки контента\n",
        "    time.sleep(1)\n",
        "\n",
        "    try:    #   ловим возможные ошибки - если что-то не вышло, добавляем ссылку на кольцо во внешний список problem_links (см. except)\n",
        "\n",
        "        tree = BeautifulSoup(driver.page_source, 'html.parser')     # парсим дерево\n",
        "\n",
        "        chars_table = tree.find('div', {'class' : \"Characteristics_sklv-characteristics__fdRmP\"})\n",
        "        # по тегу div с атрибутом 'class' : \"Characteristics_sklv-characteristics__fdRmP\" находим контейнер, в котором находятся все таблицы с характеристиками кольца\n",
        "\n",
        "        # внутри контейнера находим отдельно наименования характеристик и их значения по соответстующим тегам, и добавляем в два разных списка - отдельно имена, отдельно значения\n",
        "        chars_names = chars_table.find_all('div', {'class' : 'Characteristics_sklv-product-page-characteristics-row-name__wa7Gg'})\n",
        "        chars_values = chars_table.find_all('div', {'class' : 'Characteristics_sklv-product-page-characteristics-row-vals__NwNL9'})\n",
        "\n",
        "        rings_dict = {}     # создаём словарь, описывающий одно кольцо - его будем добавлять во внешний список словарей ring_list\n",
        "\n",
        "        for i in range(len(chars_names)):\n",
        "            name = chars_names[i].span.get_text()       # для каждой характеристики забираем из списка её имя\n",
        "            value = chars_values[i].span.get_text()     # и значение\n",
        "\n",
        "            # генератор имени для признаков с повторяющимся названием (например, если уже есть характеристика \"тип вставки\", а попалась такая же, в словарь запихиваем её как \"тип вставки 2\")\n",
        "            if name in rings_dict.keys():\n",
        "                i = 2\n",
        "                while (name + f' {i}') in rings_dict.keys():\n",
        "                    i += 1\n",
        "                name += f' {i}'\n",
        "\n",
        "            rings_dict[name] = value    # добавляем в словарь пару 'имя' - 'значение'\n",
        "\n",
        "        #Отдельно забираем цены со скидкой и без неё - они в другом контейнере\n",
        "\n",
        "        rings_dict['Цена со скидкой'] = tree.find('div', {'class': 'ProductPrice_sklv-price__new__hdyUa'}).get('data-detail-price')\n",
        "\n",
        "        # в контейнере, хранящем цену со скидкой, значение цены есть всегда (если по факту скидки нет, для кольца указано только одно значение цены).\n",
        "        # А вот в контейнере, содержащем цену без скидки, значения может и не быть. Ловим такие ситуации через try - except:\n",
        "        try:\n",
        "            rings_dict['Цена без скидки'] = tree.find('div', {'class': 'ProductPrice_sklv-price__old__QlDQl'}).get('data-old-price')\n",
        "\n",
        "        # если в try вылезла ошибка, значит кольцо не имеет скидки. Тогда в словарь добавим два одинаковых значения - цена со скидкой равна цене без скидки:\n",
        "        except:\n",
        "            rings_dict['Цена без скидки'] = rings_dict['Цена со скидкой']\n",
        "\n",
        "        rings_dict['Номер страницы'] = p    # добавим в словарь также номер страницы каталога, на которой находилось кольцо. Номер страницы - p - передаётся как аргумент функции.\n",
        "\n",
        "        rings_list.append(rings_dict)       # добавляем словарь кольца во внешний список\n",
        "\n",
        "    except:\n",
        "        problem_links.append(ref)"
      ]
    },
    {
      "cell_type": "code",
      "execution_count": null,
      "id": "a40fedd3",
      "metadata": {
        "id": "a40fedd3"
      },
      "outputs": [],
      "source": [
        "# rings_list = []\n",
        "# problem_links = []\n",
        "\n",
        "# nj = -1\n",
        "# Parallel(n_jobs=nj, prefer = 'threads')(\n",
        "#     delayed(extract_data_threaded)(ref)\n",
        "#     for ref in tqdm(extracted_ring_links))"
      ]
    },
    {
      "cell_type": "markdown",
      "source": [
        "Забираем из файла ссылки на кольца, а также номер страницы каталога, на котором они находятся. Список `extracted_ring_links` будет хранить пару `ссылка - номер страницы`"
      ],
      "metadata": {
        "id": "wiZiKVQNBDrf"
      },
      "id": "wiZiKVQNBDrf"
    },
    {
      "cell_type": "code",
      "execution_count": null,
      "id": "75146f69",
      "metadata": {
        "id": "75146f69"
      },
      "outputs": [],
      "source": [
        "extracted_ring_links = []\n",
        "\n",
        "links_from_file = open('ring_links.txt', 'r')\n",
        "for line in links_from_file:\n",
        "    extracted_ring_links.append(line.strip().split())"
      ]
    },
    {
      "cell_type": "code",
      "execution_count": null,
      "id": "2e4c3e3c",
      "metadata": {
        "id": "2e4c3e3c",
        "outputId": "1c8c8f8d-e612-4803-fc4e-aa550f7b76c6"
      },
      "outputs": [
        {
          "data": {
            "text/plain": [
              "10476"
            ]
          },
          "execution_count": 33,
          "metadata": {},
          "output_type": "execute_result"
        }
      ],
      "source": [
        "len(extracted_ring_links)"
      ]
    },
    {
      "cell_type": "markdown",
      "source": [
        "Осталось запустить шайтан-машину."
      ],
      "metadata": {
        "id": "2ti47iIYBdTj"
      },
      "id": "2ti47iIYBdTj"
    },
    {
      "cell_type": "code",
      "execution_count": null,
      "id": "2b6d3cc2",
      "metadata": {
        "id": "2b6d3cc2",
        "outputId": "93376cbe-b88e-4368-b445-992781faa4b4"
      },
      "outputs": [
        {
          "name": "stderr",
          "output_type": "stream",
          "text": [
            "100%|████████████████████████████████████████████████████████████████████████████| 8062/8062 [5:40:47<00:00,  2.54s/it]\n"
          ]
        }
      ],
      "source": [
        "driver = webdriver.Chrome()\n",
        "rings_list = []\n",
        "problem_links = []\n",
        "\n",
        "for i in tqdm(range(2414, len(extracted_ring_links))):\n",
        "    extract_data(extracted_ring_links[i][0], driver, extracted_ring_links[i][1])\n",
        "\n",
        "driver.close()"
      ]
    },
    {
      "cell_type": "markdown",
      "source": [
        "Так получилось, что на 2414 кольце упал интернет, поэтому парсили в два захода: сначала запускали цикл по всем 10476 кольцам, затем после падения на 2414 кольце перезапустили цикл, начиная с кольца 2414 (порядковый номер ссылки в списке `extracted_ring_links`). Первый заход сохранили в отдельный файл `output1.csv` (см далее)"
      ],
      "metadata": {
        "id": "noLBI6VvB4Uz"
      },
      "id": "noLBI6VvB4Uz"
    },
    {
      "cell_type": "code",
      "execution_count": null,
      "id": "4c048395",
      "metadata": {
        "id": "4c048395"
      },
      "outputs": [],
      "source": [
        "problem_links_file = open('problem_links.txt', 'w')\n",
        "for link in problem_links:\n",
        "    problem_links_file.write(link)\n",
        "    problem_links_file.write('\\n')\n",
        "problem_links_file.close()"
      ]
    },
    {
      "cell_type": "markdown",
      "source": [
        "Ссылки с проблемами никак не обрабатывали, поскольку при открытии нескольких из них сайт выдавал ошибку загрузки. Примерное количество ссылок с такой ошибкой - 100. Было принято решение не рассматривать каждую ссылку по отдельности, так как проблемные ссылки составляют 1% от спаршенных данных.\n",
        "\n",
        "Создаём `DataFrame` из полученного списка словарей и получаем на выходе таблицу, где одной строкой описывается одно кольцо."
      ],
      "metadata": {
        "id": "uk7dASGvCr2P"
      },
      "id": "uk7dASGvCr2P"
    },
    {
      "cell_type": "code",
      "execution_count": null,
      "id": "667c3e56",
      "metadata": {
        "id": "667c3e56",
        "outputId": "903b3804-5517-41bb-db6b-b65d2a3f1f8e"
      },
      "outputs": [
        {
          "data": {
            "text/html": [
              "<div>\n",
              "<style scoped>\n",
              "    .dataframe tbody tr th:only-of-type {\n",
              "        vertical-align: middle;\n",
              "    }\n",
              "\n",
              "    .dataframe tbody tr th {\n",
              "        vertical-align: top;\n",
              "    }\n",
              "\n",
              "    .dataframe thead th {\n",
              "        text-align: right;\n",
              "    }\n",
              "</style>\n",
              "<table border=\"1\" class=\"dataframe\">\n",
              "  <thead>\n",
              "    <tr style=\"text-align: right;\">\n",
              "      <th></th>\n",
              "      <th>Артикул</th>\n",
              "      <th>Бренд</th>\n",
              "      <th>Коллекция</th>\n",
              "      <th>Для кого</th>\n",
              "      <th>Примерный вес</th>\n",
              "      <th>Тип металла</th>\n",
              "      <th>Проба</th>\n",
              "      <th>Покрытие</th>\n",
              "      <th>Тип вставки</th>\n",
              "      <th>Форма вставки</th>\n",
              "      <th>...</th>\n",
              "      <th>Цветность 9</th>\n",
              "      <th>Чистота 9</th>\n",
              "      <th>Цветность 10</th>\n",
              "      <th>Чистота 10</th>\n",
              "      <th>Тип вставки 14</th>\n",
              "      <th>Форма вставки 14</th>\n",
              "      <th>Количество 14</th>\n",
              "      <th>Цвет 14</th>\n",
              "      <th>Вес 14</th>\n",
              "      <th>Размеры вставки 14</th>\n",
              "    </tr>\n",
              "  </thead>\n",
              "  <tbody>\n",
              "    <tr>\n",
              "      <th>0</th>\n",
              "      <td>93011090</td>\n",
              "      <td>SOKOLOV</td>\n",
              "      <td>RUSSE</td>\n",
              "      <td>Для женщин</td>\n",
              "      <td>2.54 г</td>\n",
              "      <td>Золочёное серебро</td>\n",
              "      <td>925</td>\n",
              "      <td>Золочение</td>\n",
              "      <td>Фианит</td>\n",
              "      <td>Сердце</td>\n",
              "      <td>...</td>\n",
              "      <td>NaN</td>\n",
              "      <td>NaN</td>\n",
              "      <td>NaN</td>\n",
              "      <td>NaN</td>\n",
              "      <td>NaN</td>\n",
              "      <td>NaN</td>\n",
              "      <td>NaN</td>\n",
              "      <td>NaN</td>\n",
              "      <td>NaN</td>\n",
              "      <td>NaN</td>\n",
              "    </tr>\n",
              "    <tr>\n",
              "      <th>1</th>\n",
              "      <td>93011094</td>\n",
              "      <td>SOKOLOV</td>\n",
              "      <td>NaN</td>\n",
              "      <td>Для женщин</td>\n",
              "      <td>1 г</td>\n",
              "      <td>Золочёное серебро</td>\n",
              "      <td>925</td>\n",
              "      <td>Золочение</td>\n",
              "      <td>Фианит</td>\n",
              "      <td>Круг</td>\n",
              "      <td>...</td>\n",
              "      <td>NaN</td>\n",
              "      <td>NaN</td>\n",
              "      <td>NaN</td>\n",
              "      <td>NaN</td>\n",
              "      <td>NaN</td>\n",
              "      <td>NaN</td>\n",
              "      <td>NaN</td>\n",
              "      <td>NaN</td>\n",
              "      <td>NaN</td>\n",
              "      <td>NaN</td>\n",
              "    </tr>\n",
              "    <tr>\n",
              "      <th>2</th>\n",
              "      <td>93011095</td>\n",
              "      <td>SOKOLOV</td>\n",
              "      <td>NaN</td>\n",
              "      <td>Для женщин</td>\n",
              "      <td>3.17 г</td>\n",
              "      <td>Золочёное серебро</td>\n",
              "      <td>925</td>\n",
              "      <td>Золочение,  Родирование,  Эмаль</td>\n",
              "      <td>Эмаль</td>\n",
              "      <td>NaN</td>\n",
              "      <td>...</td>\n",
              "      <td>NaN</td>\n",
              "      <td>NaN</td>\n",
              "      <td>NaN</td>\n",
              "      <td>NaN</td>\n",
              "      <td>NaN</td>\n",
              "      <td>NaN</td>\n",
              "      <td>NaN</td>\n",
              "      <td>NaN</td>\n",
              "      <td>NaN</td>\n",
              "      <td>NaN</td>\n",
              "    </tr>\n",
              "    <tr>\n",
              "      <th>3</th>\n",
              "      <td>93011096</td>\n",
              "      <td>SOKOLOV</td>\n",
              "      <td>NaN</td>\n",
              "      <td>Для женщин</td>\n",
              "      <td>2.99 г</td>\n",
              "      <td>Золочёное серебро</td>\n",
              "      <td>925</td>\n",
              "      <td>Золочение,  Эмаль</td>\n",
              "      <td>Эмаль</td>\n",
              "      <td>NaN</td>\n",
              "      <td>...</td>\n",
              "      <td>NaN</td>\n",
              "      <td>NaN</td>\n",
              "      <td>NaN</td>\n",
              "      <td>NaN</td>\n",
              "      <td>NaN</td>\n",
              "      <td>NaN</td>\n",
              "      <td>NaN</td>\n",
              "      <td>NaN</td>\n",
              "      <td>NaN</td>\n",
              "      <td>NaN</td>\n",
              "    </tr>\n",
              "    <tr>\n",
              "      <th>4</th>\n",
              "      <td>93011100</td>\n",
              "      <td>SOKOLOV</td>\n",
              "      <td>NaN</td>\n",
              "      <td>Для женщин</td>\n",
              "      <td>1.23 г</td>\n",
              "      <td>Золочёное серебро</td>\n",
              "      <td>925</td>\n",
              "      <td>Золочение</td>\n",
              "      <td>Без вставок</td>\n",
              "      <td>NaN</td>\n",
              "      <td>...</td>\n",
              "      <td>NaN</td>\n",
              "      <td>NaN</td>\n",
              "      <td>NaN</td>\n",
              "      <td>NaN</td>\n",
              "      <td>NaN</td>\n",
              "      <td>NaN</td>\n",
              "      <td>NaN</td>\n",
              "      <td>NaN</td>\n",
              "      <td>NaN</td>\n",
              "      <td>NaN</td>\n",
              "    </tr>\n",
              "    <tr>\n",
              "      <th>...</th>\n",
              "      <td>...</td>\n",
              "      <td>...</td>\n",
              "      <td>...</td>\n",
              "      <td>...</td>\n",
              "      <td>...</td>\n",
              "      <td>...</td>\n",
              "      <td>...</td>\n",
              "      <td>...</td>\n",
              "      <td>...</td>\n",
              "      <td>...</td>\n",
              "      <td>...</td>\n",
              "      <td>...</td>\n",
              "      <td>...</td>\n",
              "      <td>...</td>\n",
              "      <td>...</td>\n",
              "      <td>...</td>\n",
              "      <td>...</td>\n",
              "      <td>...</td>\n",
              "      <td>...</td>\n",
              "      <td>...</td>\n",
              "      <td>...</td>\n",
              "    </tr>\n",
              "    <tr>\n",
              "      <th>8013</th>\n",
              "      <td>94051161</td>\n",
              "      <td>SOKOLOV</td>\n",
              "      <td>SKLV</td>\n",
              "      <td>Для женщин</td>\n",
              "      <td>4.1 г</td>\n",
              "      <td>Родированное серебро</td>\n",
              "      <td>925</td>\n",
              "      <td>NaN</td>\n",
              "      <td>Фианит</td>\n",
              "      <td>Круг</td>\n",
              "      <td>...</td>\n",
              "      <td>NaN</td>\n",
              "      <td>NaN</td>\n",
              "      <td>NaN</td>\n",
              "      <td>NaN</td>\n",
              "      <td>NaN</td>\n",
              "      <td>NaN</td>\n",
              "      <td>NaN</td>\n",
              "      <td>NaN</td>\n",
              "      <td>NaN</td>\n",
              "      <td>NaN</td>\n",
              "    </tr>\n",
              "    <tr>\n",
              "      <th>8014</th>\n",
              "      <td>95010021</td>\n",
              "      <td>SOKOLOV</td>\n",
              "      <td>NaN</td>\n",
              "      <td>Для мужчин</td>\n",
              "      <td>12.34 г</td>\n",
              "      <td>Чернёное серебро</td>\n",
              "      <td>925</td>\n",
              "      <td>NaN</td>\n",
              "      <td>Фианит</td>\n",
              "      <td>Круг</td>\n",
              "      <td>...</td>\n",
              "      <td>NaN</td>\n",
              "      <td>NaN</td>\n",
              "      <td>NaN</td>\n",
              "      <td>NaN</td>\n",
              "      <td>NaN</td>\n",
              "      <td>NaN</td>\n",
              "      <td>NaN</td>\n",
              "      <td>NaN</td>\n",
              "      <td>NaN</td>\n",
              "      <td>NaN</td>\n",
              "    </tr>\n",
              "    <tr>\n",
              "      <th>8015</th>\n",
              "      <td>95010022</td>\n",
              "      <td>SOKOLOV</td>\n",
              "      <td>NaN</td>\n",
              "      <td>Для мужчин</td>\n",
              "      <td>12.37 г</td>\n",
              "      <td>Чернёное серебро</td>\n",
              "      <td>925</td>\n",
              "      <td>NaN</td>\n",
              "      <td>Фианит</td>\n",
              "      <td>Круг</td>\n",
              "      <td>...</td>\n",
              "      <td>NaN</td>\n",
              "      <td>NaN</td>\n",
              "      <td>NaN</td>\n",
              "      <td>NaN</td>\n",
              "      <td>NaN</td>\n",
              "      <td>NaN</td>\n",
              "      <td>NaN</td>\n",
              "      <td>NaN</td>\n",
              "      <td>NaN</td>\n",
              "      <td>NaN</td>\n",
              "    </tr>\n",
              "    <tr>\n",
              "      <th>8016</th>\n",
              "      <td>95010034</td>\n",
              "      <td>SOKOLOV</td>\n",
              "      <td>NaN</td>\n",
              "      <td>Для мужчин</td>\n",
              "      <td>9.12 г</td>\n",
              "      <td>Чернёное серебро</td>\n",
              "      <td>925</td>\n",
              "      <td>Чернение</td>\n",
              "      <td>Без вставок</td>\n",
              "      <td>NaN</td>\n",
              "      <td>...</td>\n",
              "      <td>NaN</td>\n",
              "      <td>NaN</td>\n",
              "      <td>NaN</td>\n",
              "      <td>NaN</td>\n",
              "      <td>NaN</td>\n",
              "      <td>NaN</td>\n",
              "      <td>NaN</td>\n",
              "      <td>NaN</td>\n",
              "      <td>NaN</td>\n",
              "      <td>NaN</td>\n",
              "    </tr>\n",
              "    <tr>\n",
              "      <th>8017</th>\n",
              "      <td>95010128-91</td>\n",
              "      <td>SOKOLOV</td>\n",
              "      <td>NaN</td>\n",
              "      <td>Для женщин</td>\n",
              "      <td>1.55 г</td>\n",
              "      <td>Чернёное серебро</td>\n",
              "      <td>925</td>\n",
              "      <td>NaN</td>\n",
              "      <td>Без вставок</td>\n",
              "      <td>NaN</td>\n",
              "      <td>...</td>\n",
              "      <td>NaN</td>\n",
              "      <td>NaN</td>\n",
              "      <td>NaN</td>\n",
              "      <td>NaN</td>\n",
              "      <td>NaN</td>\n",
              "      <td>NaN</td>\n",
              "      <td>NaN</td>\n",
              "      <td>NaN</td>\n",
              "      <td>NaN</td>\n",
              "      <td>NaN</td>\n",
              "    </tr>\n",
              "  </tbody>\n",
              "</table>\n",
              "<p>8018 rows × 124 columns</p>\n",
              "</div>"
            ],
            "text/plain": [
              "          Артикул    Бренд Коллекция    Для кого Примерный вес  \\\n",
              "0        93011090  SOKOLOV     RUSSE  Для женщин        2.54 г   \n",
              "1        93011094  SOKOLOV       NaN  Для женщин           1 г   \n",
              "2        93011095  SOKOLOV       NaN  Для женщин        3.17 г   \n",
              "3        93011096  SOKOLOV       NaN  Для женщин        2.99 г   \n",
              "4        93011100  SOKOLOV       NaN  Для женщин        1.23 г   \n",
              "...           ...      ...       ...         ...           ...   \n",
              "8013     94051161  SOKOLOV      SKLV  Для женщин         4.1 г   \n",
              "8014     95010021  SOKOLOV       NaN  Для мужчин       12.34 г   \n",
              "8015     95010022  SOKOLOV       NaN  Для мужчин       12.37 г   \n",
              "8016     95010034  SOKOLOV       NaN  Для мужчин        9.12 г   \n",
              "8017  95010128-91  SOKOLOV       NaN  Для женщин        1.55 г   \n",
              "\n",
              "               Тип металла Проба                         Покрытие  \\\n",
              "0        Золочёное серебро   925                        Золочение   \n",
              "1        Золочёное серебро   925                        Золочение   \n",
              "2        Золочёное серебро   925  Золочение,  Родирование,  Эмаль   \n",
              "3        Золочёное серебро   925                Золочение,  Эмаль   \n",
              "4        Золочёное серебро   925                        Золочение   \n",
              "...                    ...   ...                              ...   \n",
              "8013  Родированное серебро   925                              NaN   \n",
              "8014      Чернёное серебро   925                              NaN   \n",
              "8015      Чернёное серебро   925                              NaN   \n",
              "8016      Чернёное серебро   925                         Чернение   \n",
              "8017      Чернёное серебро   925                              NaN   \n",
              "\n",
              "      Тип вставки Форма вставки  ... Цветность 9 Чистота 9 Цветность 10  \\\n",
              "0          Фианит        Сердце  ...         NaN       NaN          NaN   \n",
              "1          Фианит          Круг  ...         NaN       NaN          NaN   \n",
              "2           Эмаль           NaN  ...         NaN       NaN          NaN   \n",
              "3           Эмаль           NaN  ...         NaN       NaN          NaN   \n",
              "4     Без вставок           NaN  ...         NaN       NaN          NaN   \n",
              "...           ...           ...  ...         ...       ...          ...   \n",
              "8013       Фианит          Круг  ...         NaN       NaN          NaN   \n",
              "8014       Фианит          Круг  ...         NaN       NaN          NaN   \n",
              "8015       Фианит          Круг  ...         NaN       NaN          NaN   \n",
              "8016  Без вставок           NaN  ...         NaN       NaN          NaN   \n",
              "8017  Без вставок           NaN  ...         NaN       NaN          NaN   \n",
              "\n",
              "     Чистота 10 Тип вставки 14 Форма вставки 14 Количество 14 Цвет 14 Вес 14  \\\n",
              "0           NaN            NaN              NaN           NaN     NaN    NaN   \n",
              "1           NaN            NaN              NaN           NaN     NaN    NaN   \n",
              "2           NaN            NaN              NaN           NaN     NaN    NaN   \n",
              "3           NaN            NaN              NaN           NaN     NaN    NaN   \n",
              "4           NaN            NaN              NaN           NaN     NaN    NaN   \n",
              "...         ...            ...              ...           ...     ...    ...   \n",
              "8013        NaN            NaN              NaN           NaN     NaN    NaN   \n",
              "8014        NaN            NaN              NaN           NaN     NaN    NaN   \n",
              "8015        NaN            NaN              NaN           NaN     NaN    NaN   \n",
              "8016        NaN            NaN              NaN           NaN     NaN    NaN   \n",
              "8017        NaN            NaN              NaN           NaN     NaN    NaN   \n",
              "\n",
              "     Размеры вставки 14  \n",
              "0                   NaN  \n",
              "1                   NaN  \n",
              "2                   NaN  \n",
              "3                   NaN  \n",
              "4                   NaN  \n",
              "...                 ...  \n",
              "8013                NaN  \n",
              "8014                NaN  \n",
              "8015                NaN  \n",
              "8016                NaN  \n",
              "8017                NaN  \n",
              "\n",
              "[8018 rows x 124 columns]"
            ]
          },
          "execution_count": 54,
          "metadata": {},
          "output_type": "execute_result"
        }
      ],
      "source": [
        "df = pd.DataFrame(rings_list)\n",
        "df"
      ]
    },
    {
      "cell_type": "markdown",
      "source": [
        "Сохраняем таблицу в файл (здесь написан код для второго захода на парсинг - после падения интернета, но для первого захода все операции были аналогичными)"
      ],
      "metadata": {
        "id": "S1QbDqBMC8uf"
      },
      "id": "S1QbDqBMC8uf"
    },
    {
      "cell_type": "code",
      "execution_count": null,
      "id": "cc7bd2c4",
      "metadata": {
        "id": "cc7bd2c4"
      },
      "outputs": [],
      "source": [
        "df.to_csv('output2.csv')"
      ]
    },
    {
      "cell_type": "markdown",
      "source": [
        "Читаем таблицы, полученные с обоих заходов на парсинг и объединяем их в один `DataFrame`, после чего сбрасываем индексы для удобства и сохраняем в итоговый файл `data.csv`"
      ],
      "metadata": {
        "id": "taU6RRkLDJ0J"
      },
      "id": "taU6RRkLDJ0J"
    },
    {
      "cell_type": "code",
      "execution_count": null,
      "id": "3f87c9e9",
      "metadata": {
        "id": "3f87c9e9"
      },
      "outputs": [],
      "source": [
        "df1 = pd.read_csv('output1.csv')\n",
        "df2 = pd.read_csv('output2.csv')\n",
        "\n",
        "finaldf = pd.concat([df1, df2])\n",
        "finaldf.reset_index().drop(['index', 'Unnamed: 0'], axis=1).to_csv('data.csv')"
      ]
    }
  ],
  "metadata": {
    "kernelspec": {
      "display_name": "Python 3 (ipykernel)",
      "language": "python",
      "name": "python3"
    },
    "language_info": {
      "codemirror_mode": {
        "name": "ipython",
        "version": 3
      },
      "file_extension": ".py",
      "mimetype": "text/x-python",
      "name": "python",
      "nbconvert_exporter": "python",
      "pygments_lexer": "ipython3",
      "version": "3.11.2"
    },
    "colab": {
      "provenance": []
    }
  },
  "nbformat": 4,
  "nbformat_minor": 5
}